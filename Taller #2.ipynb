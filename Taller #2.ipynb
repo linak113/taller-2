{
 "cells": [
  {
   "cell_type": "code",
   "execution_count": 4,
   "metadata": {},
   "outputs": [
    {
     "name": "stdout",
     "output_type": "stream",
     "text": [
      "Empezar el proceso de evacuación.\n",
      "Intentar arreglar la fuga.\n",
      "Utilizar el cofre magico con proviviones ilimitadas para las personas miestras se busca otra solucion.\n",
      "Evacuar a las personas en grupos pequeños en la alfombra.\n",
      "Terminamos la evacuacion y salvamos a las personas.\n"
     ]
    }
   ],
   "source": [
    "encender_alarmas = True\n",
    "pedir_ayuda_a_las_autoridades = True\n",
    "los_refuerzos_llegan_a_tiempo = False\n",
    "se_intenta_arreglar_la_fuga = False\n",
    "usar_la_alfombra_magica = True\n",
    "la_alfombra_magica_funciona = True\n",
    "\n",
    "if encender_alarmas and pedir_ayuda_a_las_autoridades:\n",
    "    print(\"Empezar el proceso de evacuación.\")\n",
    "else:\n",
    "    print(\"Usar una alfombra mágica para pedir ayuda.\")\n",
    "\n",
    "if los_refuerzos_llegan_a_tiempo:\n",
    "    print(\"Los refuerzos ayudan y terminan con el rescate.\") \n",
    "else:\n",
    "    print(\"Intentar arreglar la fuga.\")\n",
    "\n",
    "if se_intenta_arreglar_la_fuga:\n",
    "    print(\"El barco deja de hundirse y las personas estan a salvo.\")\n",
    "else:\n",
    "    print(\"Utilizar el cofre magico con proviviones ilimitadas para las personas miestras se busca otra solucion.\")\n",
    "\n",
    "if usar_la_alfombra_magica:\n",
    "    print(\"Evacuar a las personas en grupos pequeños en la alfombra.\")\n",
    "else:\n",
    "    print(\"Utilizar pequeños botes de emergencia para evacuar a la gente.\")\n",
    "\n",
    "if la_alfombra_magica_funciona:\n",
    "    print(\"Terminamos la evacuacion y salvamos a las personas.\")"
   ]
  }
 ],
 "metadata": {
  "kernelspec": {
   "display_name": "Python 3",
   "language": "python",
   "name": "python3"
  },
  "language_info": {
   "codemirror_mode": {
    "name": "ipython",
    "version": 3
   },
   "file_extension": ".py",
   "mimetype": "text/x-python",
   "name": "python",
   "nbconvert_exporter": "python",
   "pygments_lexer": "ipython3",
   "version": "3.11.9"
  }
 },
 "nbformat": 4,
 "nbformat_minor": 2
}
